{
  "nbformat": 4,
  "nbformat_minor": 0,
  "metadata": {
    "colab": {
      "provenance": [],
      "mount_file_id": "1dJf9EUs2VSku70cJPrX0AcIQGQMEIzME",
      "authorship_tag": "ABX9TyMgs8/scyltnp6j58EWT/pV",
      "include_colab_link": true
    },
    "kernelspec": {
      "name": "python3",
      "display_name": "Python 3"
    },
    "language_info": {
      "name": "python"
    }
  },
  "cells": [
    {
      "cell_type": "markdown",
      "metadata": {
        "id": "view-in-github",
        "colab_type": "text"
      },
      "source": [
        "<a href=\"https://colab.research.google.com/github/AlexSan1910/Tratamento_Pesquisa_De_Satisfacao/blob/main/maketing_nps.ipynb\" target=\"_parent\"><img src=\"https://colab.research.google.com/assets/colab-badge.svg\" alt=\"Open In Colab\"/></a>"
      ]
    },
    {
      "cell_type": "code",
      "execution_count": null,
      "metadata": {
        "colab": {
          "base_uri": "https://localhost:8080/"
        },
        "id": "q9Sqk32VxU60",
        "outputId": "6af0147b-39a3-4d51-8c94-3ab6c97c9eb6"
      },
      "outputs": [
        {
          "output_type": "stream",
          "name": "stdout",
          "text": [
            "Collecting pyspark\n",
            "  Downloading pyspark-3.5.0.tar.gz (316.9 MB)\n",
            "\u001b[2K     \u001b[90m━━━━━━━━━━━━━━━━━━━━━━━━━━━━━━━━━━━━━━━━\u001b[0m \u001b[32m316.9/316.9 MB\u001b[0m \u001b[31m4.6 MB/s\u001b[0m eta \u001b[36m0:00:00\u001b[0m\n",
            "\u001b[?25h  Preparing metadata (setup.py) ... \u001b[?25l\u001b[?25hdone\n",
            "Requirement already satisfied: py4j==0.10.9.7 in /usr/local/lib/python3.10/dist-packages (from pyspark) (0.10.9.7)\n",
            "Building wheels for collected packages: pyspark\n",
            "  Building wheel for pyspark (setup.py) ... \u001b[?25l\u001b[?25hdone\n",
            "  Created wheel for pyspark: filename=pyspark-3.5.0-py2.py3-none-any.whl size=317425345 sha256=4e31c865ada141769e74382250a62f4490601c00e0e1be2ed2118fb8e83b0633\n",
            "  Stored in directory: /root/.cache/pip/wheels/41/4e/10/c2cf2467f71c678cfc8a6b9ac9241e5e44a01940da8fbb17fc\n",
            "Successfully built pyspark\n",
            "Installing collected packages: pyspark\n",
            "Successfully installed pyspark-3.5.0\n"
          ]
        }
      ],
      "source": [
        "# instalando pyspark\n",
        "\n",
        "!pip install pyspark"
      ]
    },
    {
      "cell_type": "code",
      "source": [
        "# importando bibliotecas pyspark e instaciando objeto spark\n",
        "\n",
        "from pyspark.sql import SparkSession\n",
        "from pyspark.sql import functions as f\n",
        "from pyspark.sql.functions import col\n",
        "import pandas as pd\n",
        "\n",
        "spark = SparkSession.builder.appName(\"nps\").getOrCreate()"
      ],
      "metadata": {
        "id": "ec6vwOyZxyWZ"
      },
      "execution_count": null,
      "outputs": []
    },
    {
      "cell_type": "code",
      "source": [
        "# importando arquivos do google drive para o spark\n",
        "\n",
        "url = \"/content/drive/MyDrive/BasesSpark/nps_marketing/Mark*\"\n",
        "\n",
        "nps = spark.read.options(header=True).csv(\n",
        "    url,\n",
        "    sep=\",\",\n",
        "    inferSchema=True # Verificar o tipo de cada coluna\n",
        ")\n"
      ],
      "metadata": {
        "id": "hHBEwGjLyLEN"
      },
      "execution_count": null,
      "outputs": []
    },
    {
      "cell_type": "code",
      "source": [
        "# visualizar a estrutura da tabela e identificar a quantidade de linhas.\n",
        "\n",
        "nps.show()\n",
        "nps.count()"
      ],
      "metadata": {
        "colab": {
          "base_uri": "https://localhost:8080/"
        },
        "id": "L6o4l1VV34Bw",
        "outputId": "678d06c2-3a31-4f91-a276-b8437756e27b"
      },
      "execution_count": null,
      "outputs": [
        {
          "output_type": "stream",
          "name": "stdout",
          "text": [
            "+--------------------------------------------------------------------------------------------------+-------------------------------------------------------------------------------------------------+-----------------------------------------------------------------------------------------------------------------------+-------------------------------------------------------------------------+------------------------------------------------------------------------------------------------------------------------------+-------------------------------------------------------------------------------------------------------------------------+---------------+-----------+--------------------+--------------------+-----------------+----------------+\n",
            "|Qual sua avaliação da rede de estabelecimentos do Cartão Megavale em relação às suas necessidades?|Qual sua avaliação do aplicativo Megavale em relação à facilidade de consulta de saldo e extrato?|Com base na sua experiência com o Cartão Megavale, você se sente satisfeito(a) com os serviços e benefícios oferecidos?|Como você avalia a qualidade do atendimento oferecido ao usuário/cliente?|Qual dos seguintes benefícios você teria interesse, caso a Megavale ofertasse a você gratuitamente em seu Clube de Benefícios?|Você tem alguma sugestão de melhoria, comentário ou reclamação em relação ao Cartão Megavale? Se sim, poderia nos contar?|Referral source|Dispositivo|                 URL|       IP do Usuario|Data de conversão|  Data conversão|\n",
            "+--------------------------------------------------------------------------------------------------+-------------------------------------------------------------------------------------------------+-----------------------------------------------------------------------------------------------------------------------+-------------------------------------------------------------------------+------------------------------------------------------------------------------------------------------------------------------+-------------------------------------------------------------------------------------------------------------------------+---------------+-----------+--------------------+--------------------+-----------------+----------------+\n",
            "|                                                                                               Bom|                                                                                              Bom|                                                                                                   Nem satisfeito, n...|                                                                      Bom|                                                                                                          Descontos e promo...|                                                                                                                     NULL|  Acesso direto|     Mobile|https://megavale....|      177.39.134.140| 28/10/2023 18:56|28/10/2023 18:56|\n",
            "|                                                                                         Excelente|                                                                                        Excelente|                                                                                                       Muito satisfeito|                                                                Excelente|                                                                                                          Consultas médicas...|                                                                                                                     NULL|  Acesso direto|     Mobile|https://megavale....|     138.255.237.149| 28/10/2023 18:52|28/10/2023 18:52|\n",
            "|                                                                                               Bom|                                                                                              Bom|                                                                                                             Satisfeito|                                                                      Bom|                                                                                                          Descontos em cine...|                                                                                                                     NULL|  Acesso direto|     Mobile|https://megavale....|2804:18:5821:4786...| 28/10/2023 18:52|28/10/2023 18:52|\n",
            "|                                                                                               Bom|                                                                                              Bom|                                                                                                             Satisfeito|                                                                      Bom|                                                                                                          Descontos em cine...|                                                                                                                      Bom|  Acesso direto|     Mobile|https://megavale....|2804:fec:d4be:9a0...| 28/10/2023 18:49|28/10/2023 18:49|\n",
            "|                                                                                          Razoável|                                                                                              Bom|                                                                                                             Satisfeito|                                                                      Bom|                                                                                                          Seguros de vida, ...|                                                                                                                     NULL|  Acesso direto|     Mobile|https://megavale....|2804:389:68:4e11:...| 28/10/2023 18:49|28/10/2023 18:49|\n",
            "|                                                                                          Razoável|                                                                                              Bom|                                                                                                             Satisfeito|                                                                      Bom|                                                                                                          Descontos em cine...|                                                                                                                     NULL|  Acesso direto|     Mobile|https://megavale....|2804:214:82c0:37c...| 28/10/2023 18:48|28/10/2023 18:48|\n",
            "|                                                                                               Bom|                                                                                         Razoável|                                                                                                             Satisfeito|                                                                      Bom|                                                                                                          Descontos e promo...|                                                                                                                     NULL|  Acesso direto|     Mobile|https://megavale....|2804:5d80:40e8:87...| 28/10/2023 18:48|28/10/2023 18:48|\n",
            "|                                                                                               Bom|                                                                                              Bom|                                                                                                             Satisfeito|                                                                      Bom|                                                                                                          Oferta de consórc...|                                                                                                                     NULL|  Acesso direto|     Mobile|https://megavale....|2804:389:bd:32bf:...| 28/10/2023 18:46|28/10/2023 18:46|\n",
            "|                                                                                          Razoável|                                                                                              Bom|                                                                                                             Satisfeito|                                                                      Bom|                                                                                                          Descontos em cine...|                                                                                                                     NULL|  Acesso direto|     Mobile|https://megavale....|2804:18:18bd:aba8...| 28/10/2023 18:46|28/10/2023 18:46|\n",
            "|                                                                                               Bom|                                                                                              Bom|                                                                                                             Satisfeito|                                                                      Bom|                                                                                                          Convênio odontoló...|                                                                                                     Não está ótimo assim|  Acesso direto|     Mobile|https://megavale....|     177.222.167.109| 28/10/2023 18:45|28/10/2023 18:45|\n",
            "|                                                                                               Bom|                                                                                              Bom|                                                                                                             Satisfeito|                                                                      Bom|                                                                                                          Descontos em cine...|                                                                                                                     NULL|  Acesso direto|     Mobile|https://megavale....|        131.0.123.32| 28/10/2023 18:44|28/10/2023 18:44|\n",
            "|                                                                                               Bom|                                                                                              Bom|                                                                                                   Nem satisfeito, n...|                                                                      Bom|                                                                                                          Descontos em cine...|                                                                                                                     NULL|  Acesso direto|     Mobile|https://megavale....|2804:14d:c096:842...| 28/10/2023 18:44|28/10/2023 18:44|\n",
            "|                                                                                          Razoável|                                                                                              Bom|                                                                                                   Nem satisfeito, n...|                                                                 Razoável|                                                                                                          Convênio odontoló...|                                                                                                     Poderia ser aceit...|  Acesso direto|     Mobile|https://megavale....|      138.59.139.253| 28/10/2023 18:41|28/10/2023 18:41|\n",
            "|                                                                                         Excelente|                                                                                        Excelente|                                                                                                             Satisfeito|                                                                      Bom|                                                                                                               Seguros de vida|                                                                                                                     NULL|  Acesso direto|     Mobile|https://megavale....|        191.13.85.63| 28/10/2023 18:41|28/10/2023 18:41|\n",
            "|                                                                                         Excelente|                                                                                        Excelente|                                                                                                       Muito satisfeito|                                                                Excelente|                                                                                                          Convênio odontoló...|                                                                                                                     NULL|  Acesso direto|     Mobile|https://megavale....|2804:fec:d47c:6b0...| 28/10/2023 18:40|28/10/2023 18:40|\n",
            "|                                                                                               Bom|                                                                                              Bom|                                                                                                             Satisfeito|                                                                      Bom|                                                                                                          Descontos em cine...|                                                                                                                     NULL|  Acesso direto|     Mobile|https://megavale....|2804:4058:10d0:6d...| 28/10/2023 18:38|28/10/2023 18:38|\n",
            "|                                                                                               Bom|                                                                                              Bom|                                                                                                             Satisfeito|                                                                      Bom|                                                                                                          Descontos e promo...|                                                                                                                     NULL|  Acesso direto|     Mobile|https://megavale....|      177.138.124.81| 28/10/2023 18:36|28/10/2023 18:36|\n",
            "|                                                                                         Excelente|                                                                                              Bom|                                                                                                   Nem satisfeito, n...|                                                                      Bom|                                                                                                          Oferta de consórc...|                                                                                                     Na impressão do c...|  Acesso direto|     Mobile|https://megavale....|     181.232.168.117| 28/10/2023 18:31|28/10/2023 18:31|\n",
            "|                                                                                          Razoável|                                                                                        Excelente|                                                                                                             Satisfeito|                                                                      Bom|                                                                                                          Descontos e promo...|                                                                                                     Poderiam aumentar...|  Acesso direto|     Mobile|https://megavale....|     131.221.210.142| 28/10/2023 18:26|28/10/2023 18:26|\n",
            "|                                                                                               Bom|                                                                                              Bom|                                                                                                             Satisfeito|                                                                      Bom|                                                                                                          Consultas médicas...|                                                                                                                     NULL|  Acesso direto|     Mobile|https://megavale....|       187.33.58.214| 28/10/2023 18:26|28/10/2023 18:26|\n",
            "+--------------------------------------------------------------------------------------------------+-------------------------------------------------------------------------------------------------+-----------------------------------------------------------------------------------------------------------------------+-------------------------------------------------------------------------+------------------------------------------------------------------------------------------------------------------------------+-------------------------------------------------------------------------------------------------------------------------+---------------+-----------+--------------------+--------------------+-----------------+----------------+\n",
            "only showing top 20 rows\n",
            "\n"
          ]
        },
        {
          "output_type": "execute_result",
          "data": {
            "text/plain": [
              "29861"
            ]
          },
          "metadata": {},
          "execution_count": 4
        }
      ]
    },
    {
      "cell_type": "code",
      "source": [
        "# Retirando todas as colunas que não iremos utilizar\n",
        "\n",
        "nps = nps.drop(\"IP do Usuario\", \"URL\", \"Referral source\")"
      ],
      "metadata": {
        "id": "P7OoYE9m9hGM"
      },
      "execution_count": null,
      "outputs": []
    },
    {
      "cell_type": "code",
      "source": [
        "# Retirar todas as linha que não seja \"Bom, Excelente, Razoavel, Péssimo, Ruim\"\n",
        "\n",
        "valores_manter = [\"Bom\", \"Excelente\", \"Razoável\", \"Ruim\", \"Péssimo\"]\n",
        "\n",
        "nps = nps.filter(col(\"Qual sua avaliação da rede de estabelecimentos do Cartão Megavale em relação às suas necessidades?\").isin(valores_manter))"
      ],
      "metadata": {
        "id": "v4-yWILoSt9Q"
      },
      "execution_count": null,
      "outputs": []
    },
    {
      "cell_type": "code",
      "source": [
        "# Mostrar valores distintos após a retirada\n",
        "\n",
        "nps.select(\"Qual sua avaliação da rede de estabelecimentos do Cartão Megavale em relação às suas necessidades?\").distinct().show()\n",
        "nps.count()"
      ],
      "metadata": {
        "colab": {
          "base_uri": "https://localhost:8080/"
        },
        "id": "sFB4RXdD8RCx",
        "outputId": "210d0713-cf12-4ff3-e678-0e9062a430f4"
      },
      "execution_count": null,
      "outputs": [
        {
          "output_type": "stream",
          "name": "stdout",
          "text": [
            "+--------------------------------------------------------------------------------------------------+\n",
            "|Qual sua avaliação da rede de estabelecimentos do Cartão Megavale em relação às suas necessidades?|\n",
            "+--------------------------------------------------------------------------------------------------+\n",
            "|                                                                                               Bom|\n",
            "|                                                                                         Excelente|\n",
            "|                                                                                           Péssimo|\n",
            "|                                                                                          Razoável|\n",
            "|                                                                                              Ruim|\n",
            "+--------------------------------------------------------------------------------------------------+\n",
            "\n"
          ]
        },
        {
          "output_type": "execute_result",
          "data": {
            "text/plain": [
              "29283"
            ]
          },
          "metadata": {},
          "execution_count": 7
        }
      ]
    },
    {
      "cell_type": "code",
      "source": [
        "# Convertendo arquivo pra pandas e Salvando dados em formato excel em uma pasta\n",
        "\n",
        "nps_pd = nps.toPandas()\n",
        "\n",
        "nps_pd.to_excel(\"/content/drive/MyDrive/Bases_Tratadas/nps_marketing.xlsx\", index=False)\n",
        "\n",
        "# nps.write.xlsx(\"/content/drive/MyDrive/Bases_Tratadas/nps_marketing.csv\", header=True, mode=\"overwrite\")"
      ],
      "metadata": {
        "id": "UxeP72JwOfOF"
      },
      "execution_count": null,
      "outputs": []
    }
  ]
}